{
 "cells": [
  {
   "cell_type": "code",
   "execution_count": 1,
   "id": "f1d1ce59",
   "metadata": {},
   "outputs": [],
   "source": [
    "import numpy as np"
   ]
  },
  {
   "cell_type": "code",
   "execution_count": 15,
   "id": "eb0db2ed",
   "metadata": {},
   "outputs": [],
   "source": [
    "class PCA(object):\n",
    "    def __init__(self, X, K):\n",
    "        self.X = X\n",
    "        self.K = K\n",
    "\n",
    "        self.centrax = []\n",
    "        self.cov = []\n",
    "        self.U = []\n",
    "        self.Z = []\n",
    "\n",
    "        self.centrax = self._centrax()\n",
    "        self.cov = self._cov()\n",
    "        self.U = self._U()\n",
    "        self.Z = self._Z()\n",
    "\n",
    "    def _centrax(self):\n",
    "        mean = np.array([np.mean(attar) for attar in self.X.T])\n",
    "\n",
    "        centrax = self.X - mean\n",
    "\n",
    "        return centrax\n",
    "\n",
    "    def _cov(self):\n",
    "        \n",
    "        nums = self.X.shape[0]\n",
    "        return np.dot(self.centrax.T, self.centrax) / (nums-1)\n",
    "    \n",
    "    def _U(self):\n",
    "\n",
    "        eig_val, eig_vec = np.linalg.eig(self.cov)\n",
    "\n",
    "        ind = np.argsort(-1*eig_val)\n",
    "\n",
    "        UT = [eig_vec[:,ind[i]] for i in range(self.K)]\n",
    "\n",
    "        U = np.transpose(UT)\n",
    "\n",
    "        return U\n",
    "\n",
    "    def _Z(self):\n",
    "\n",
    "        return np.dot(self.X, self.U)"
   ]
  },
  {
   "cell_type": "code",
   "execution_count": 3,
   "id": "fdd15bde",
   "metadata": {},
   "outputs": [],
   "source": [
    "X = np.array([[10, 15, 29],\n",
    "                  [15, 46, 13],\n",
    "                  [23, 21, 30],\n",
    "                  [11, 9,  35],\n",
    "                  [42, 45, 11],\n",
    "                  [9,  48, 5],\n",
    "                  [11, 21, 14],\n",
    "                  [8,  5,  15],\n",
    "                  [11, 12, 21],\n",
    "                  [21, 20, 25]])"
   ]
  },
  {
   "cell_type": "code",
   "execution_count": 4,
   "id": "fe9733eb",
   "metadata": {},
   "outputs": [],
   "source": [
    "K = np.shape(X)[1] - 1"
   ]
  },
  {
   "cell_type": "code",
   "execution_count": 17,
   "id": "86f4bbb7",
   "metadata": {},
   "outputs": [],
   "source": [
    "pca = PCA(X, K)"
   ]
  },
  {
   "cell_type": "code",
   "execution_count": 18,
   "id": "41837477",
   "metadata": {},
   "outputs": [
    {
     "name": "stdout",
     "output_type": "stream",
     "text": [
      "[[ -4.56200104 -21.2336912 ]\n",
      " [-39.28629002 -15.26038349]\n",
      " [-13.30247561 -32.55597794]\n",
      " [  2.71190993 -25.49365577]\n",
      " [-47.37858268 -38.02120912]\n",
      " [-42.36990935  -6.0258027 ]\n",
      " [-16.00097294 -14.43926499]\n",
      " [ -0.822856   -13.7001301 ]\n",
      " [ -5.42741864 -18.56462272]\n",
      " [-13.80800193 -28.51385518]]\n"
     ]
    }
   ],
   "source": [
    "print(pca.Z)"
   ]
  },
  {
   "cell_type": "code",
   "execution_count": null,
   "id": "6645241f",
   "metadata": {},
   "outputs": [],
   "source": []
  }
 ],
 "metadata": {
  "kernelspec": {
   "display_name": "Python 3",
   "language": "python",
   "name": "python3"
  },
  "language_info": {
   "codemirror_mode": {
    "name": "ipython",
    "version": 3
   },
   "file_extension": ".py",
   "mimetype": "text/x-python",
   "name": "python",
   "nbconvert_exporter": "python",
   "pygments_lexer": "ipython3",
   "version": "3.7.11"
  }
 },
 "nbformat": 4,
 "nbformat_minor": 5
}
